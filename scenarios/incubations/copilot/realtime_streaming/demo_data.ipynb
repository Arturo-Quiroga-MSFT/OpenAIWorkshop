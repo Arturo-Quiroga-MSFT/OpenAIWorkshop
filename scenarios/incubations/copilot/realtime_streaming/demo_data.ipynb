{
 "cells": [
  {
   "cell_type": "code",
   "execution_count": null,
   "metadata": {},
   "outputs": [],
   "source": [
    "## Show case of flight data status change"
   ]
  },
  {
   "cell_type": "code",
   "execution_count": 26,
   "metadata": {},
   "outputs": [],
   "source": [
    "def read_ccloud_config(config_file):\n",
    "    omitted_fields = set(['schema.registry.url', 'basic.auth.credentials.source', 'basic.auth.user.info'])\n",
    "    conf = {}\n",
    "    with open(config_file) as fh:\n",
    "        for line in fh:\n",
    "            line = line.strip()\n",
    "            if len(line) != 0 and line[0] != \"#\":\n",
    "                parameter, value = line.strip().split('=', 1)\n",
    "                if parameter not in omitted_fields:\n",
    "                    conf[parameter] = value.strip()\n",
    "    return conf"
   ]
  },
  {
   "cell_type": "code",
   "execution_count": 66,
   "metadata": {},
   "outputs": [
    {
     "data": {
      "text/plain": [
       "0"
      ]
     },
     "execution_count": 66,
     "metadata": {},
     "output_type": "execute_result"
    }
   ],
   "source": [
    "from confluent_kafka import Producer\n",
    "import json\n",
    "# value ={\"flight_num\": \"AA479\", \"from\":\"JFK\", \"to\":\"LAX\", \"old_departure_time\": \"NA\", \"old_arrival_time\":\"NA\",\"departure_time\": \"2023-09-17T23:00:00\", \"arrival_time\":\"2023-09-18T01:00:00\", \n",
    "#         \"reason\":\"ok, i test\",\"flight_status\": \"ontime\"}\n",
    "\n",
    "\n",
    "value ={\"flight_num\": \"AA479\", \"from\":\"JFK\", \"to\":\"LAX\", \"old_departure_time\": \"2023-09-17T23:00:00\", \n",
    "        \"old_arrival_time\":\"2023-09-18T01:00:00\",\"departure_time\": \"2020-09-18T02:00:00\", \n",
    "        \"arrival_time\":\"2023-09-18T04:00:00\", \"reason\":\"Forecasted bad weather at destination\",\n",
    "        \"flight_status\": \"delayed\"}\n",
    "\n",
    "# # value = {\n",
    "#   \"passenger_id\": \"PAS123\",\n",
    "#   \"name\": \"John Doe\",\n",
    "#   \"age\": 30,\n",
    "#   \"gender\": \"Male\",\n",
    "#   \"flight_num\": \"AA489\"\n",
    "# }\n",
    "topic = \"flight_status\"\n",
    "value = json.dumps(value)\n",
    "producer = Producer(read_ccloud_config(\"client.properties\"))\n",
    "producer.produce(topic, key=\"key\", value=value)\n",
    "producer.flush()\n"
   ]
  },
  {
   "cell_type": "code",
   "execution_count": 79,
   "metadata": {},
   "outputs": [
    {
     "data": {
      "text/plain": [
       "0"
      ]
     },
     "execution_count": 79,
     "metadata": {},
     "output_type": "execute_result"
    }
   ],
   "source": [
    "\n",
    "from confluent_kafka import Producer\n",
    "import json\n",
    "new_policy = {\"id\": \"e22891ad-5850-42ac-b856-270615ab1f3a\",\n",
    "\"policy_type\": \"checked baggage policy\",\n",
    "\"policy\": \"\"\"American Airlines' checked baggage policy states that passengers are allowed to check up to 4 bags on their flights. However, charges will apply for all checked bags except for First Class and Business Class passengers, AAdvantage Executive Platinum, Platinum Pro, and Platinum members, and Oneworld Emerald members. \n",
    "\n",
    "For all other passengers, the first checked bag will cost $30 for domestic flights and flights to/from Canada, Mexico, Central America, and the Caribbean, and $60 for transatlantic flights. The second bag will cost $40 for domestic flights and flights to/from Canada, Mexico, Central America, and the Caribbean, and $100 for transatlantic flights. \n",
    "\n",
    "Additional checked bags will each cost $150 for all flights except for flights to/from Brazil, where each additional checked bag costs $85. Oversized and overweight baggage fees also apply, with fees ranging from $100 to $450 per bag depending on the weight and size. \n",
    "\n",
    "Passengers are encouraged to check their baggage allowance and fees prior to their flights to avoid any unexpected charges at the airport.\"\"\",\n",
    "\"airline\":  \"American Airlines\",\n",
    "\"active\":  \"true\"}\n",
    "topic = \"general\"\n",
    "value = json.dumps(new_policy)\n",
    "producer = Producer(read_ccloud_config(\"client.properties\"))\n",
    "producer.produce(topic, key=\"key\", value=value)\n",
    "producer.flush()\n"
   ]
  },
  {
   "cell_type": "code",
   "execution_count": 6,
   "metadata": {},
   "outputs": [],
   "source": [
    "from pathlib import Path  \n",
    "import os\n",
    "import openai\n",
    "from dotenv import load_dotenv\n",
    "from azure.core.credentials import AzureKeyCredential  \n",
    "from azure.search.documents import SearchClient  \n",
    "from openai.embeddings_utils import get_embedding, cosine_similarity\n",
    "import inspect\n",
    "env_path = Path('.') / 'secrets.env'\n",
    "load_dotenv(dotenv_path=env_path)\n",
    "openai.api_key =  os.environ.get(\"AZURE_OPENAI_API_KEY\")\n",
    "openai.api_base =  os.environ.get(\"AZURE_OPENAI_ENDPOINT\")\n",
    "AZURE_SEARCH_SERVICE_ENDPOINT=os.environ.get(\"AZURE_SEARCH_SERVICE_ENDPOINT\")\n",
    "AZURE_SEARCH_INDEX_NAME=os.environ.get(\"AZURE_SEARCH_INDEX_NAME\")\n",
    "AZURE_SEARCH_ADMIN_KEY=os.environ.get(\"AZURE_SEARCH_ADMIN_KEY\")\n",
    "\n",
    "openai.api_type = \"azure\"\n",
    "emb_engine = os.getenv(\"AZURE_OPENAI_EMB_DEPLOYMENT\")\n",
    "emb_engine = emb_engine.strip('\"')\n",
    "\n"
   ]
  },
  {
   "cell_type": "code",
   "execution_count": 7,
   "metadata": {},
   "outputs": [],
   "source": [
    "from azure.core.credentials import AzureKeyCredential  \n",
    "from azure.search.documents import SearchClient  \n",
    "from azure.search.documents.models import Vector \n",
    "import openai\n",
    "\n",
    "\n",
    "credential = AzureKeyCredential(AZURE_SEARCH_ADMIN_KEY)\n",
    "azcs_search_client = SearchClient(AZURE_SEARCH_SERVICE_ENDPOINT, index_name =AZURE_SEARCH_INDEX_NAME , credential=credential)\n",
    "def generate_embeddings(text):\n",
    "    print(\"emb_engine\", emb_engine)\n",
    "    openai.api_version = \"2023-05-15\"\n",
    "    response = openai.Embedding.create(\n",
    "        input=text, engine=emb_engine)\n",
    "    embeddings = response['data'][0]['embedding']\n",
    "    return embeddings\n",
    "\n",
    "def search_knowledgebase(search_query):\n",
    "    vector = Vector(value=generate_embeddings(search_query), k=3, fields=\"embedding\")\n",
    "    print(\"search query: \", search_query)\n",
    "    results = azcs_search_client.search(  \n",
    "        search_text=search_query,  \n",
    "        vectors= [vector],\n",
    "        select=[\"sourcepage\",\"content\"],\n",
    "        top=5\n",
    "    )  \n",
    "    text_content =\"\"\n",
    "    for result in results:  \n",
    "        text_content += f\"{result['sourcepage']}\\n{result['content']}\\n\"\n",
    "    print(\"text_content\", text_content)\n",
    "    return text_content\n",
    "\n",
    "def add_or_update(new_flight):\n",
    "    azcs_search_client.merge_or_upload_documents(documents = [new_flight])\n",
    "\n"
   ]
  },
  {
   "cell_type": "code",
   "execution_count": 81,
   "metadata": {},
   "outputs": [
    {
     "name": "stdout",
     "output_type": "stream",
     "text": [
      "emb_engine text-embedding-ada-002\n",
      "Semantic Answer: American Airlines' checked baggage policy states that passengers are allowed to check up<em> to 4 bags</em> on their flights. However, charges will apply for all checked bags except for First Class and Business Class passengers, AAdvantage Executive Platinum, Platinum Pro, and Platinum members, and Oneworld Emerald members.\n",
      "Semantic Answer Score: 0.9765625\n",
      "\n",
      "Search Reranked Score: 3.427849292755127\n",
      "Search Score: 0.03201844170689583\n",
      "id: 3ea54c44-69d0-4a7f-9903-0272701e2aeb\n",
      "policy_type: luggage policy\n",
      "policy: - Carry-on baggage:\n",
      "Passengers are allowed to bring one carry-on bag and one personal item onboard. The carry-on bag must not exceed 22 x 14 x 9 inches (56 x 36 x 23 cm), including handles and wheels, and must fit in the overhead bin. The personal item must be able to fit under the seat in front of the passenger and can include a purse, briefcase, or laptop bag.\n",
      "\n",
      "- Checked baggage:\n",
      "The number of checked bags allowed varies based on the ticket type, destination, and loyalty status. The weight and size limits for checked bags also vary depending on these factors. For most destinations, the standard weight limit for each checked bag is 50 pounds (23 kg), and the maximum overall dimensions for each bag are 62 inches (158 cm). Fees may apply for certain destinations or excess weight.\n",
      "\n",
      "- Special items:\n",
      "Special items such as sports equipment, musical instruments, and fragile or perishable items may require additional fees and restrictions. American Airlines recommends contacting their reservations or special assistance department ahead of time to confirm the guidelines for traveling with special items.\n",
      "\n",
      "- Prohibited items:\n",
      "Certain items are not allowed to be carried onboard or in checked baggage, including explosives, firearms, and certain chemicals and gases. For a complete list of prohibited items, passengers should check with American Airlines or the Transportation Security Administration (TSA) website.\n",
      "\n",
      "- Lost or damaged baggage:\n",
      "If luggage is lost or damaged during the flight, passengers should report it to American Airlines customer service or baggage service office at the airport as soon as possible. American Airlines has policies in place for compensating passengers for lost or damaged baggage, subject to certain limitations and conditions.\n",
      "airline:  American Airlines\n",
      "active: True\n",
      "Caption: The carry-on bag must not exceed 22 x 14 x 9 inches (56 x 36 x 23 cm), including handles and wheels, and must fit in the overhead bin. The personal item must be able to fit under the seat in front of the passenger and can include a purse, briefcase, or laptop bag.\n",
      "\n",
      "Search Reranked Score: 3.3290441036224365\n",
      "Search Score: 0.03333333507180214\n",
      "id: e1101436-0421-49fb-aeb5-60ab4598570d\n",
      "policy_type:  overweight baggage policy\n",
      "policy: American Airlines overweight baggage policy is based on the weight of the bag, the travel class, and the destination. \n",
      "\n",
      "For domestic travel within the United States, the weight limit for checked baggage is 50 pounds (22.7 kg) for economy class and 70 pounds (31.8 kg) for first and business class. If a checked bag exceeds these weight limits but is no more than 100 pounds (45.4 kg), an overweight bag fee of $100 will apply. Bags weighing over 100 pounds will not be accepted as checked baggage.\n",
      "\n",
      "For international travel, the weight limit for checked baggage varies by destination and travel class. Passengers are advised to check the American Airlines website or contact the airline directly for specific weight limits on their itinerary.\n",
      "\n",
      "For carry-on baggage, the weight limit is 40 pounds (18.1 kg) or less, and the size limit is 22 x 14 x 9 inches (56 x 36 x 23 cm). Any bags exceeding these limits will need to be checked, and overweight fees may apply if the checked bag is over the weight limit.\n",
      "\n",
      "Passengers can avoid overweight baggage fees by packing strategically, distributing weight evenly between bags, and paying for additional baggage allowance if needed. It is also important to note that any items exceeding the weight limit for a particular bag will not be accepted for transport and will need to be repackaged or shipped separately.\n",
      "airline:  American Airlines\n",
      "active: True\n",
      "Caption: For domestic travel within the United States, the weight limit for checked baggage is<em> 50 pounds (22.7 kg)</em> for economy class and<em> 70 pounds</em> <em>(31.8 kg)</em> for first and business class. If a checked bag exceeds these weight limits but is no more than 100 pounds (45.4 kg), an overweight bag fee of $100 will apply.\n",
      "\n",
      "Search Reranked Score: 3.115349292755127\n",
      "Search Score: 0.016393441706895828\n",
      "id: 4741fe1f-6a77-4bd5-af44-f606c78d1ebc\n",
      "policy_type:  oversized baggage policy\n",
      "policy: American Airlines oversized baggage policy is as follows:\n",
      "\n",
      "1. Any checked bag over 62 linear inches (length + width + height) and under 126 linear inches will be charged a $200 fee.\n",
      "\n",
      "2. Any checked bag over 126 linear inches will not be accepted as checked baggage and must be shipped separately as freight.\n",
      "\n",
      "3. Oversized bags such as bicycles, surfboards, and musical instruments may be accepted as checked baggage and will be subject to the $200 fee if they are over 62 linear inches but under 126 linear inches.\n",
      "\n",
      "4. Any oversized item that weighs over 100lbs must be shipped as cargo and will be subject to additional fees.\n",
      "\n",
      "5. American Airlines offers an option for customers to pre-purchase one allowance of oversized baggage online for a discounted rate of $150 one way.\n",
      "\n",
      "6. The maximum weight for any checked bag is 50lbs, and any bag exceeding this limit will be subject to additional fees. \n",
      "\n",
      "7. Passengers traveling with oversized baggage must notify American Airlines at least 24 hours prior to their flight. \n",
      "\n",
      "8. Any oversized baggage may be subject to additional restrictions based on aircraft type or destination.\n",
      "airline:  American Airlines\n",
      "active: True\n",
      "Caption: American Airlines oversized baggage policy is as follows:  1. Any checked bag over 62 linear inches (length + width + height) and under 126 linear inches will be charged a $200 fee. 2. Any checked bag over 126 linear inches will not be accepted as checked baggage and must be shipped separately as freight. 3.\n",
      "\n"
     ]
    }
   ],
   "source": [
    "# Semantic Hybrid Search\n",
    "from azure.core.credentials import AzureKeyCredential  \n",
    "from azure.search.documents import SearchClient  \n",
    "from azure.search.documents.models import Vector \n",
    "import openai\n",
    "from azure.search.documents.indexes import SearchIndexClient  \n",
    "from azure.search.documents.models import Vector  \n",
    "from azure.search.documents.indexes.models import (  \n",
    "    SearchIndex,  \n",
    "    SearchField,  \n",
    "    SearchFieldDataType,  \n",
    "    SimpleField,  \n",
    "    SearchableField,  \n",
    "    SearchIndex,  \n",
    "    SemanticConfiguration,  \n",
    "    PrioritizedFields,  \n",
    "    SemanticField,  \n",
    "    SearchField,  \n",
    "    SemanticSettings,  \n",
    "    VectorSearch,  \n",
    "    HnswVectorSearchAlgorithmConfiguration,  \n",
    ")  \n",
    "\n",
    "\n",
    "query = \"American Airlines baggage limit\"\n",
    "\n",
    "vector = Vector(value=generate_embeddings(query), k=3, fields=\"contentVector\")  \n",
    "filter = \"airline eq 'American Airlines'\"\n",
    "results = azcs_search_client.search(  \n",
    "    search_text=query,  \n",
    "    vectors=[vector],\n",
    "    # filter=filter,\n",
    "    select=[\"id\", \"policy_type\", \"policy\", \"airline\", \"active\"],\n",
    "    query_type=\"semantic\", query_language=\"en-us\", semantic_configuration_name='my-semantic-config', query_caption=\"extractive\", query_answer=\"extractive\",\n",
    "    top=3\n",
    ")\n",
    "\n",
    "semantic_answers = results.get_answers()\n",
    "for answer in semantic_answers:\n",
    "    if answer.highlights:\n",
    "        print(f\"Semantic Answer: {answer.highlights}\")\n",
    "    else:\n",
    "        print(f\"Semantic Answer: {answer.text}\")\n",
    "    print(f\"Semantic Answer Score: {answer.score}\\n\")\n",
    "\n",
    "for result in results:\n",
    "\n",
    "    print(f\"Search Reranked Score: {result['@search.reranker_score']}\")\n",
    "    print(f\"Search Score: {result['@search.score']}\")\n",
    "    print(f\"id: {result['id']}\")\n",
    "    print(f\"policy_type: {result['policy_type']}\")\n",
    "    print(f\"policy: {result['policy']}\")\n",
    "    print(f\"airline: {result['airline']}\")\n",
    "    print(f\"active: {result['active']}\")\n",
    "\n",
    "    captions = result[\"@search.captions\"]\n",
    "    if captions:\n",
    "        caption = captions[0]\n",
    "        if caption.highlights:\n",
    "            print(f\"Caption: {caption.highlights}\\n\")\n",
    "        else:\n",
    "            print(f\"Caption: {caption.text}\\n\")\n"
   ]
  },
  {
   "cell_type": "code",
   "execution_count": 55,
   "metadata": {},
   "outputs": [
    {
     "name": "stdout",
     "output_type": "stream",
     "text": [
      "emb_engine text-embedding-ada-002\n"
     ]
    }
   ],
   "source": [
    "new_policy = {\"id\": \"e22891ad-5850-42ac-b856-270615ab1f3a\",\n",
    "\"policy_type\": \"checked baggage policy\",\n",
    "\"policy\": \"\"\"American Airlines' checked baggage policy states that passengers are allowed to check up to 8 bags on their flights. However, charges will apply for all checked bags except for First Class and Business Class passengers, AAdvantage Executive Platinum, Platinum Pro, and Platinum members, and Oneworld Emerald members. \n",
    "\n",
    "For all other passengers, the first checked bag will cost $30 for domestic flights and flights to/from Canada, Mexico, Central America, and the Caribbean, and $60 for transatlantic flights. The second bag will cost $40 for domestic flights and flights to/from Canada, Mexico, Central America, and the Caribbean, and $100 for transatlantic flights. \n",
    "\n",
    "Additional checked bags will each cost $150 for all flights except for flights to/from Brazil, where each additional checked bag costs $85. Oversized and overweight baggage fees also apply, with fees ranging from $100 to $450 per bag depending on the weight and size. \n",
    "\n",
    "Passengers are encouraged to check their baggage allowance and fees prior to their flights to avoid any unexpected charges at the airport.\"\"\",\n",
    "\"airline\":  \"American Airlines\",\n",
    "\"active\":  \"true\"}\n",
    "contentVector = generate_embeddings(new_policy['policy'])\n",
    "new_policy['contentVector'] = contentVector\n"
   ]
  },
  {
   "cell_type": "code",
   "execution_count": 56,
   "metadata": {},
   "outputs": [],
   "source": [
    "\n",
    "def add_or_update(new_policy):\n",
    "    azcs_search_client.merge_or_upload_documents(documents = [new_policy])\n",
    "add_or_update(new_policy)"
   ]
  },
  {
   "cell_type": "code",
   "execution_count": null,
   "metadata": {},
   "outputs": [],
   "source": []
  }
 ],
 "metadata": {
  "kernelspec": {
   "display_name": "llm",
   "language": "python",
   "name": "python3"
  },
  "language_info": {
   "codemirror_mode": {
    "name": "ipython",
    "version": 3
   },
   "file_extension": ".py",
   "mimetype": "text/x-python",
   "name": "python",
   "nbconvert_exporter": "python",
   "pygments_lexer": "ipython3",
   "version": "3.10.12"
  },
  "orig_nbformat": 4
 },
 "nbformat": 4,
 "nbformat_minor": 2
}
